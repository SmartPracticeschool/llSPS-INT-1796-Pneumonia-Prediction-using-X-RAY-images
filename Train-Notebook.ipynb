{
 "cells": [
  {
   "cell_type": "markdown",
   "metadata": {},
   "source": [
    "# Data Preprocessing"
   ]
  },
  {
   "cell_type": "code",
   "execution_count": 1,
   "metadata": {},
   "outputs": [
    {
     "name": "stderr",
     "output_type": "stream",
     "text": [
      "Using TensorFlow backend.\n"
     ]
    }
   ],
   "source": [
    "#importing the liabrary\n",
    "from keras.preprocessing.image import ImageDataGenerator"
   ]
  },
  {
   "cell_type": "code",
   "execution_count": 3,
   "metadata": {},
   "outputs": [],
   "source": [
    "#configuration\n",
    "train_datagen=ImageDataGenerator(rescale=1./255,shear_range=0.2,zoom_range=0.2,horizontal_flip=True)\n",
    "test_datagen=ImageDataGenerator(rescale=1./255)"
   ]
  },
  {
   "cell_type": "code",
   "execution_count": 4,
   "metadata": {},
   "outputs": [
    {
     "name": "stdout",
     "output_type": "stream",
     "text": [
      "Found 408 images belonging to 2 classes.\n",
      "Found 96 images belonging to 2 classes.\n"
     ]
    }
   ],
   "source": [
    "#Apply to dataset\n",
    "x_train=train_datagen.flow_from_directory(r'E:\\Project\\dataset\\train_set',target_size=(64,64),batch_size=4,class_mode='binary')\n",
    "x_test=test_datagen.flow_from_directory(r'E:\\Project\\dataset\\test_set',target_size=(64,64),batch_size=4,class_mode='binary')"
   ]
  },
  {
   "cell_type": "code",
   "execution_count": 5,
   "metadata": {},
   "outputs": [
    {
     "name": "stdout",
     "output_type": "stream",
     "text": [
      "{'NORMAL': 0, 'PNEUMONIA': 1}\n"
     ]
    }
   ],
   "source": [
    "print(x_train.class_indices)"
   ]
  },
  {
   "cell_type": "markdown",
   "metadata": {},
   "source": [
    "# Building the model"
   ]
  },
  {
   "cell_type": "code",
   "execution_count": 6,
   "metadata": {},
   "outputs": [],
   "source": [
    "#import the liabraries\n",
    "from keras.models import Sequential\n",
    "from keras.layers import Dense\n",
    "from keras.layers import Convolution2D\n",
    "from keras.layers import MaxPooling2D\n",
    "from keras.layers import Flatten"
   ]
  },
  {
   "cell_type": "code",
   "execution_count": 7,
   "metadata": {},
   "outputs": [],
   "source": [
    "#initialize the model\n",
    "model=Sequential()"
   ]
  },
  {
   "cell_type": "code",
   "execution_count": 8,
   "metadata": {},
   "outputs": [
    {
     "name": "stdout",
     "output_type": "stream",
     "text": [
      "WARNING:tensorflow:From C:\\Users\\Lenovo\\Anaconda3\\lib\\site-packages\\tensorflow_core\\python\\ops\\resource_variable_ops.py:1630: calling BaseResourceVariable.__init__ (from tensorflow.python.ops.resource_variable_ops) with constraint is deprecated and will be removed in a future version.\n",
      "Instructions for updating:\n",
      "If using Keras pass *_constraint arguments to layers.\n",
      "WARNING:tensorflow:From C:\\Users\\Lenovo\\Anaconda3\\lib\\site-packages\\keras\\backend\\tensorflow_backend.py:4070: The name tf.nn.max_pool is deprecated. Please use tf.nn.max_pool2d instead.\n",
      "\n"
     ]
    }
   ],
   "source": [
    "#add convolution layers\n",
    "model.add(Convolution2D(32,(3,3),input_shape = (64,64,3),activation='relu'))\n",
    "model.add(MaxPooling2D(pool_size=(2,2)))\n",
    "model.add(Flatten())"
   ]
  },
  {
   "cell_type": "code",
   "execution_count": 9,
   "metadata": {},
   "outputs": [
    {
     "name": "stderr",
     "output_type": "stream",
     "text": [
      "C:\\Users\\Lenovo\\Anaconda3\\lib\\site-packages\\ipykernel_launcher.py:2: UserWarning: Update your `Dense` call to the Keras 2 API: `Dense(activation=\"relu\", units=64, kernel_initializer=\"uniform\")`\n",
      "  \n",
      "C:\\Users\\Lenovo\\Anaconda3\\lib\\site-packages\\ipykernel_launcher.py:3: UserWarning: Update your `Dense` call to the Keras 2 API: `Dense(activation=\"sigmoid\", units=1, kernel_initializer=\"uniform\")`\n",
      "  This is separate from the ipykernel package so we can avoid doing imports until\n"
     ]
    }
   ],
   "source": [
    "#Adding Dense layers\n",
    "model.add(Dense(output_dim=64,init='uniform',activation='relu'))\n",
    "model.add(Dense(output_dim=1,activation='sigmoid',init='uniform'))"
   ]
  },
  {
   "cell_type": "code",
   "execution_count": 10,
   "metadata": {},
   "outputs": [
    {
     "name": "stdout",
     "output_type": "stream",
     "text": [
      "WARNING:tensorflow:From C:\\Users\\Lenovo\\Anaconda3\\lib\\site-packages\\tensorflow_core\\python\\ops\\nn_impl.py:183: where (from tensorflow.python.ops.array_ops) is deprecated and will be removed in a future version.\n",
      "Instructions for updating:\n",
      "Use tf.where in 2.0, which has the same broadcast rule as np.where\n"
     ]
    }
   ],
   "source": [
    "#Compile the model\n",
    "model.compile(loss='binary_crossentropy', optimizer='adam',metrics=['accuracy'])"
   ]
  },
  {
   "cell_type": "code",
   "execution_count": 11,
   "metadata": {},
   "outputs": [
    {
     "name": "stdout",
     "output_type": "stream",
     "text": [
      "WARNING:tensorflow:From C:\\Users\\Lenovo\\Anaconda3\\lib\\site-packages\\keras\\backend\\tensorflow_backend.py:422: The name tf.global_variables is deprecated. Please use tf.compat.v1.global_variables instead.\n",
      "\n",
      "Epoch 1/20\n",
      "102/102 [==============================] - 31s 304ms/step - loss: 0.6660 - accuracy: 0.5637 - val_loss: 0.6940 - val_accuracy: 0.4479\n",
      "Epoch 2/20\n",
      "102/102 [==============================] - 24s 234ms/step - loss: 0.4977 - accuracy: 0.7647 - val_loss: 1.0676 - val_accuracy: 0.5625\n",
      "Epoch 3/20\n",
      "102/102 [==============================] - 24s 238ms/step - loss: 0.3538 - accuracy: 0.8578 - val_loss: 0.8260 - val_accuracy: 0.6562\n",
      "Epoch 4/20\n",
      "102/102 [==============================] - 24s 234ms/step - loss: 0.3513 - accuracy: 0.8456 - val_loss: 0.8991 - val_accuracy: 0.6250\n",
      "Epoch 5/20\n",
      "102/102 [==============================] - 24s 238ms/step - loss: 0.2829 - accuracy: 0.8897 - val_loss: 1.4944 - val_accuracy: 0.5938\n",
      "Epoch 6/20\n",
      "102/102 [==============================] - 24s 236ms/step - loss: 0.3066 - accuracy: 0.8873 - val_loss: 0.4375 - val_accuracy: 0.5208\n",
      "Epoch 7/20\n",
      "102/102 [==============================] - 24s 232ms/step - loss: 0.2361 - accuracy: 0.9044 - val_loss: 0.5664 - val_accuracy: 0.6458\n",
      "Epoch 8/20\n",
      "102/102 [==============================] - 24s 236ms/step - loss: 0.2373 - accuracy: 0.8922 - val_loss: 0.2722 - val_accuracy: 0.6771\n",
      "Epoch 9/20\n",
      "102/102 [==============================] - 24s 238ms/step - loss: 0.2446 - accuracy: 0.8922 - val_loss: 1.8753 - val_accuracy: 0.5729\n",
      "Epoch 10/20\n",
      "102/102 [==============================] - 25s 241ms/step - loss: 0.2437 - accuracy: 0.8971 - val_loss: 0.2695 - val_accuracy: 0.6875\n",
      "Epoch 11/20\n",
      "102/102 [==============================] - 25s 242ms/step - loss: 0.2439 - accuracy: 0.9044 - val_loss: 1.2844 - val_accuracy: 0.6667\n",
      "Epoch 12/20\n",
      "102/102 [==============================] - 24s 235ms/step - loss: 0.1794 - accuracy: 0.9314 - val_loss: 1.5520 - val_accuracy: 0.6979\n",
      "Epoch 13/20\n",
      "102/102 [==============================] - 24s 238ms/step - loss: 0.1758 - accuracy: 0.9289 - val_loss: 0.3974 - val_accuracy: 0.7292\n",
      "Epoch 14/20\n",
      "102/102 [==============================] - 25s 242ms/step - loss: 0.1850 - accuracy: 0.9314 - val_loss: 0.5262 - val_accuracy: 0.7188\n",
      "Epoch 15/20\n",
      "102/102 [==============================] - 24s 235ms/step - loss: 0.2142 - accuracy: 0.9265 - val_loss: 0.2487 - val_accuracy: 0.6042\n",
      "Epoch 16/20\n",
      "102/102 [==============================] - 25s 240ms/step - loss: 0.1912 - accuracy: 0.9191 - val_loss: 0.8659 - val_accuracy: 0.6771\n",
      "Epoch 17/20\n",
      "102/102 [==============================] - 24s 239ms/step - loss: 0.1923 - accuracy: 0.9167 - val_loss: 1.5001 - val_accuracy: 0.5938\n",
      "Epoch 18/20\n",
      "102/102 [==============================] - 24s 236ms/step - loss: 0.1444 - accuracy: 0.9461 - val_loss: 0.8107 - val_accuracy: 0.6042\n",
      "Epoch 19/20\n",
      "102/102 [==============================] - 24s 236ms/step - loss: 0.1889 - accuracy: 0.9191 - val_loss: 1.0621 - val_accuracy: 0.7083\n",
      "Epoch 20/20\n",
      "102/102 [==============================] - 25s 246ms/step - loss: 0.2077 - accuracy: 0.9191 - val_loss: 0.3915 - val_accuracy: 0.7083\n"
     ]
    },
    {
     "data": {
      "text/plain": [
       "<keras.callbacks.callbacks.History at 0x209c4940388>"
      ]
     },
     "execution_count": 11,
     "metadata": {},
     "output_type": "execute_result"
    }
   ],
   "source": [
    "#Train the model\n",
    "model.fit_generator(x_train,steps_per_epoch=102, epochs=20,validation_data=x_test,validation_steps=24)"
   ]
  },
  {
   "cell_type": "code",
   "execution_count": 12,
   "metadata": {},
   "outputs": [],
   "source": [
    "#save model\n",
    "model.save('PNEUMONIA.h5')"
   ]
  },
  {
   "cell_type": "code",
   "execution_count": null,
   "metadata": {},
   "outputs": [],
   "source": []
  },
  {
   "cell_type": "code",
   "execution_count": null,
   "metadata": {},
   "outputs": [],
   "source": []
  },
  {
   "cell_type": "code",
   "execution_count": null,
   "metadata": {},
   "outputs": [],
   "source": []
  },
  {
   "cell_type": "code",
   "execution_count": null,
   "metadata": {},
   "outputs": [],
   "source": []
  }
 ],
 "metadata": {
  "kernelspec": {
   "display_name": "Python 3",
   "language": "python",
   "name": "python3"
  },
  "language_info": {
   "codemirror_mode": {
    "name": "ipython",
    "version": 3
   },
   "file_extension": ".py",
   "mimetype": "text/x-python",
   "name": "python",
   "nbconvert_exporter": "python",
   "pygments_lexer": "ipython3",
   "version": "3.7.4"
  }
 },
 "nbformat": 4,
 "nbformat_minor": 2
}
